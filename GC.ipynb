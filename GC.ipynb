{
 "cells": [
  {
   "cell_type": "code",
   "execution_count": 1,
   "metadata": {},
   "outputs": [
    {
     "name": "stderr",
     "output_type": "stream",
     "text": [
      "C:\\Users\\RTX 3070 TI\\AppData\\Local\\Temp\\ipykernel_15676\\1363649270.py:14: DtypeWarning: Columns (0) have mixed types. Specify dtype option on import or set low_memory=False.\n",
      "  gtf = pd.read_csv(gtf_file, sep='\\t', comment='#', header=None,\n",
      "C:\\Users\\RTX 3070 TI\\AppData\\Local\\Temp\\ipykernel_15676\\1363649270.py:20: DtypeWarning: Columns (0) have mixed types. Specify dtype option on import or set low_memory=False.\n",
      "  exons_bed = pd.read_csv(exon_bed_file, sep='\\t', header=None,\n"
     ]
    }
   ],
   "source": [
    "import pandas as pd\n",
    "from Bio import SeqIO\n",
    "from scipy import stats\n",
    "\n",
    "# Load the unaffected genes list\n",
    "unique_genes = pd.read_csv('Unaffected_Genes.csv')\n",
    "\n",
    "# Load genome file\n",
    "genome_file = 'Homo_sapiens.GRCh38.dna.primary_assembly.fa'\n",
    "genome = SeqIO.to_dict(SeqIO.parse(genome_file, 'fasta'))\n",
    "\n",
    "\n",
    "# Load Exon BED file\n",
    "exon_bed_file = 'exons.bed'\n",
    "exons_bed = pd.read_csv(exon_bed_file, sep='\\t', header=None, \n",
    "                        names=['seqname', 'start', 'end', 'strand', 'transcript', \"gene_id\", \"length\"])\n",
    "exons_bed['seqname'] = exons_bed['seqname'].astype(str)\n",
    "\n",
    "#Remove duplicate exons\n",
    "exons_bed = exons_bed.drop_duplicates(subset=['seqname', 'start', 'end'])\n"
   ]
  },
  {
   "cell_type": "code",
   "execution_count": 2,
   "metadata": {},
   "outputs": [],
   "source": [
    "# Function to get exon sequences for a gene\n",
    "def get_exon_sequences(gene_id, exons_bed, genome):\n",
    "    # Filter exons for the specific gene ID\n",
    "    gene_exons = exons_bed[exons_bed['gene_id'] == gene_id]\n",
    "    exon_sequences = []\n",
    "    for _, row in gene_exons.iterrows():\n",
    "        seqname, start, end = row['seqname'], row['start'], row['end']\n",
    "        \n",
    "        if seqname not in genome:\n",
    "            print(f\"Chromosome {seqname} not found in genome for gene_id {gene_id}\")\n",
    "            continue\n",
    "        \n",
    "        # Extract and concatenate exon sequences\n",
    "        exon_seq = genome[seqname].seq[start:end]\n",
    "        exon_sequences.append(str(exon_seq))\n",
    "    \n",
    "    # Concatenate all exon sequences for the gene\n",
    "    full_exon_sequence = ''.join(exon_sequences)\n",
    "    \n",
    "    return full_exon_sequence\n",
    "\n",
    "\n",
    "\n",
    "# function for calculating GC content \n",
    "def calculate_gc_content(sequence):\n",
    "    gc_count = sequence.count('G') + sequence.count('C')\n",
    "    return (gc_count / len(sequence)) * 100 if len(sequence) > 0 else 0"
   ]
  },
  {
   "cell_type": "code",
   "execution_count": 3,
   "metadata": {},
   "outputs": [
    {
     "name": "stdout",
     "output_type": "stream",
     "text": [
      "GCGACGCGGCGCAGGCGGCGGGAGTGCGAGCTGGGCCCGTGTTTCGGCCGCCGCCATGGCCGCGGTGGACCTGGAGAAGCTGCGGGCGTCGGGCGCGGGCAAGGCCATCGGCGTCCTGACCAGCGGCGGCGACGCGCAAGGTCCCCTGACAAGCCCACCAGGCCCCCTGCTGAGATGGCTGTGACCCTGGGCTGACCCGCCCAGTGGCACATTGACTCCGCCTGGAGCTGGGGAGACCAGAGAGGCCCTGTGGTTGGACGGTGGCCTGGGTGCGCTGCTCCTGCCCTCTCCTTGCCCTGCCTCAGCTGCTGCCTGCCAGAGGCGTGGCACCTCACCTCACACCTGCTCCCTGCTGCTGAGCCCCACGCCAAGCTGGAGAGCGGATGAGAAGCATGTGTAACCAGGGTAGAGGTCGAGAGTCCTCTCGTGGGGGTCTCCATGTTCAAGGGAGCTGCCGAGGCTTGAGCAGGAGCCCCCAGCAGGAAACTGGCTTTGCCAAGGCCCCCGCTGGGACAGACTGTTTCTTTCACTGCAGTCCTGGGAGCCGAGGGCAAGGGGACAGGAAAGAGGAAGTGACCTCAGAGCCTGGTGGCACCAGCATCATGTCCAGGCTGGGGGGCATGAACGCTGCTGTCCGGGCTGTGACGCGCATGGGCATTTATGTGGGTGCCAAAGTCTTCCTCATCTACGAGGGCTATGAGGGCCTCGTGGAGGGAGGTGAGAACATCAAGCAGGCCAACTGGCTGAGCGTCTCCAACATCATCCAGCTGGGCGGCACTATCATTGGCAGCGCTCGCTGCAAGGCCTTTACCACCAGGGAGGGGCGCCGGGCAGCGGCCTACAACCTGGTCCAGCACGGCATCACCAACCTGTGCGTCATCGGCGGGGATGGCAGCCTCACAGGTGCCAACATCTTCCGCAGCGAGTGGGGCAGCCTGCTGGAGGAGCTGGTGGCGGAAGGTAAGATCTCAGAGACTACAGCCCGGACCTACTCGCACCTGAACATCGCGGGCCTAGTGGGCTCCATCGATAACGACTTCTGCGGCACCGACATGACCATCGGCACGGACTCGGCCCTCCACCGCATCATGGAGGTCATCGATGCCATCACCACCACTGCCCAGAGCCACCAGAGGACCTTCGTGCTGGAAGTGATGGGCCGGCACTGCGGGTACCTGGCGCTGGTATCTGCACTGGCCTCAGGGGCCGACTGGCTGTTCATCCCCGAGGCTCCACCCGAGGACGGCTGGGAGAACTTCATGTGTGAGAGGCTGGGTGAGACTCGGAGCCGTGGGTCCCGACTGAACATCATCATCATCGCTGAGGGTGCCATTGACCGCAACGGGAAGCCCATCTCGTCCAGCTACGTGAAGGACCTGGTGGTTCAGAGGCTGGGCTTCGACACCCGTGTAACTGTGCTGGGCCACGTGCAGCGGGGAGGGACGCCCTCTGCCTTCGACCGGATCCTGAGCAGCAAGATGGGCATGGAGGCGGTGATGGCGCTGCTGGAAGCCACGCCTGACACGCCGGCCTGCGTGGTCACCCTCTCGGGGAACCAGTCAGTGCGGCTGCCCCTCATGGAGTGCGTGCAGATGACCAAGGAAGTGCAGAAAGCCATGGATGACAAGAGGTTTGACGAGGCCACCCAGCTCCGTGGTGGGAGCTTCGAGAACAACTGGAACATTTACAAGCTCCTCGCCCACCAGAAGCCCCCCAAGGAGAAGTCTAACTTCTCCCTGGCCATCCTGAATGTGGGGGCCCCGGCGGCTGGCATGAATGCGGCCGTGCGCTCGGCGGTGCGGACCGGCATCTCCCATGGACACACAGTATACGTGGTGCACGATGGCTTCGAAGGCCTAGCCAAGGGTCAGGTGCAAGAAGTAGGCTGGCACGACGTGGCCGGCTGGTTGGGGCGTGGTGGCTCCATGCTGGGGACCAAGAGGACCCTGCCCAAGGGCCAGCTGGAGTCCATTGTGGAGAACATCCGCATCTATGGTATTCACGCCCTGCTGGTGGTCGGTGGGTTTGAGGCCTATGAAGGGGTGCTGCAGCTGGTGGAGGCTCGCGGGCGCTACGAGGAGCTCTGCATCGTCATGTGTGTCATCCCAGCCACCATCAGCAACAACGTCCCTGGCACCGACTTCAGCCTGGGCTCCGACACTGCTGTAAATGCCGCCATGGAGAGCTGTGACCGCATCAAACAGTCTGCCTCGGGGACCAAGCGCCGTGTGTTCATCGTGGAGACCATGGGGGGTTACTGTGGCTACCTGGCCACCGTGACTGGCATTGCTGTGGGGGCCGACGCCGCCTACGTCTTCGAGGACCCTTTCAACATCCACGACTTAAAGGTCAACGTGGAGCACATGACGGAGAAGATGAAGACAGACATTCAGAGGGGCCTGGTGCTGCGGAACGAGAAGTGCCATGACTACTACACCACGGAGTTCCTGTACAACCTGTACTCATCAGAGGGCAAGGGCGTCTTCGACTGCAGGACCAATGTCCTGGGCCACCTGCAGCAGGGTGGCGCTCCAACCCCCTTTGACCGGAACTATGGGACCAAGCTGGGGGTGAAGGCCATGCTGTGGTTGTCGGAGAAGCTGCGCGAGGTTTACCGCAAGGGACGGGTGTTCGCCAATGCCCCAGACTCGGCCTGCGTGATCGGCCTGAAGAAGAAGGCGGTGGCCTTCAGCCCCGTCACTGAGCTCAAGAAAGACACTGATTTCGAGCACCGCATGCCACGGGAGCAGTGGTGGCTGAGCCTGCGGCTCATGCTGAAGATGCTGGCACAATACCGCATCAGTATGGCCGCCTACGTGTCAGGGGAGCTGGAGCACGTGACCCGCCGCACCCTGAGCATGGACAAGGGCTTCTGAGGCCAGCCATGCCCACGCCCCTCCCCAGCCCCCACCCATGCCAGCGCAGCGCCAGGGCTCAGATGGGGCCTGGGCTGTTGTGTCTGGAGCCTGCAGGCAGGTGGGGGCTGCGTCCCTGCTCAGCCCATCCCCTGCCTCTATCCCTGGCCACCTGCCAGGCCTCCCTCGGGCTGGTGTCTTGAGACCAGCCTGCCAGGCCCTCCAGCAGGAGGACAGAGTGCCCTGGGGCATCCACCTTCCTGCCCAGGGGACGTGGCGCTGTCGGTGTTTGGAGGCTGCTGCCCCCTGGCTTTGGCGCCCCATGGGCCCTCAGCGTCTCCCCATGCTGGGCTCACTACATGGGCCAGCCCTTGCTCTACCTGGCCGGTAGGCTGCTGGCGCCTAGGTTGTGTTGAGAGGGGGATGCCCCTGGCCCTGCCTCACTGTGACCTGCTCCTGCCCACGTGCAGCACCTGTCACCTTTTCTAGAAATAAAATCACCCTGACTGTGGGGTGCATCGGTCTCCGGAGAGCAGACGCGGCGCAGGCGGCGGGAGTGCGAGCTGGGCCCGTGTTTCGGCCGCCGCCATGGCCGCGGTGGACCTGGAGAAGCTGCGGGCGTCGGGCGCGGGCAAGGCCATCGGCGTCCTGACCAGCGGCGGCGACGCGCAAGGCACCGCATGCCACGGGAGCAGTGGTGGCTGAGCCTGCGGCTCATGCTGAAGATGCTGGCACAATACCGCATCAGTATGGCCGCCTACGTGTCAGGGGAGCTGGAGCACGTGACCCGCCGCACCCTGAGCATGGACAAGGGCTTCTGAGGCCAGCCATGCCCACGCCCCTCCCCAGCCCCCACCCATGCCAGCGCAGCGCCAGGGCTCAGATGGGGCCTGGGCTGTTGTGTCTGGAGCCTGCAGGCAGGTGGGGGCTGCGTCCCTGCTCAGCCCATCCCCTGCCTCTATCCCTGGCCACCTGCCAGGCCTCCCTCGGGCTGGTGTCTTGAGACCAGCCTGCCAGGCCCTCCAGCAGGAGGACAGAGTGCCCTGGGGCATCCACCTTCCTGCCCAGGGGACGTGGCGCTGTCGGTGTTTGGAGGCTGCTGCCCCCTGGCTTTGGCGCCCCATGGGCCCTCAGCGTCTCCCCATGCTGGGCTCACTACATGGGCCAGCCCTTGCTCTACCTGGCCGGTAGGCTGCTGGCGCCTAGGTTGTGTTGAGAGGGGGATGCCCCTGGCCCTGCCTCACTGTGACCTGCTCCTGCCCACGTGCAGCACCTGTCACCTTTTCTAGAAATAAAATCACCCTGACTGTGGGGTGCATCGGTCTCCGGAGAGGCGGGAGTGCGAGCTGGGCCCGTGTTTCGGCCGCCGCCATGGCCGCGGTGGACCTGGAGAAGCTGCGGGCGTCGGGCGCGGGCAAGGCCATCGGCGTCCTGACCAGCGGCGGCGACGCGCAAGGGCCGCCGCCATGGCCGCGGTGGACCTGGAGAAGCTGCGGGCGTCGGGCGCGGGCAAGGCCATCGGCGTCCTGACCAGCGGCGGCGACGCGCAAGGTACCTGGCGCTGGTATCTGCACTGGCCTCAGGGGCCGACTGGCTGTTCATCCCCGAGGCTCCACCCGAGGACGGCTGGGAGAACTTCATGTGTGAGAGGCTGGGTGAGGTGGGTGCCGTCCAGCCTGCTGGGGGCCGCAGGTGTCCTGGTGCACTGGGTAGCGCCCCTGGGGTTTTGGGACCAGCCTTGACCAACTCATCTATCACTCATGGGTTCATCAGCAGCTGCAGGTGCCCCTTGGGGGCGGGACACGCAAGGAGTGGGGGGCTACGGGGCTGACCTCAGTGAGGCACCTGTGGTCCTGCCCCCAGTGGGCAGGAGGCGGAGAGGGTCACTCAGGCTGCCGCCGCCCCAGGCTCAGCCCCGTGGTCAGTGTGGGGAGCTTGGTGAGGCTGCTTACTGGGGTGGGACTGCTGAGCCTGGGGCGGTGGGAGGTGGTTGGTTGTGAGGGAGTGGCCCCAGCAAGGTCCAGACGGCAGGGCTGTGGGGGTGGCGAGGCCAGGAGCTGGGCCAGTGGGGAGCAGGGCCTTCCCCTGAGGGCGGTCGGGGCCCGGGGGTGGGTTCTAGGCTGGAAAGATGTGTCGGAACGTGGCTGTAGCCACAGGGTGGACAGGAGGTCCCGGAAGCAGGAGAGGGTGGGGAGGCTGCTGGGAGGCCGAGACCGCCTCTGGGAGGGATGGGGGGGTGCCTGGTGGGGAGGGGTGTGTCTGGAGTGGGGGTGCCTGGAATGCCGCCCTCTGGTTCCCTTGGGGTGGAGTTGGGGGCTCTGGCCTAGAACAGGCTGACACTGCCCTGTGGACCCTGAGACCCCTCAACTGGGACAGGTCGGCCCCTTGGTGGGGTGGGGCTCAATGGTGGACCAGAGGCACGGGCCATTCAGGCTGTCCTTCGCCCACACCCGACCATGCAGGGCAAGGCCAGGGGCCCCCGTGGCTCTAGCTCTGTCCTCTGTGCGCTGAGGCTGAGGCAGGACCACTGGAACCAGCCCTGGGGGCAGAGGGTGGGTTTGGGACTGACACGGTATCCCTGTCCCCGTGTGAAGGTGGCAGCGTCACTCCCATCTGTGTGGACACTGGTTCCACCTCCGCGTGGCTGTACAGTGCTGCCGAGGGCAGTGGGAGAGGCCGTGGGTAATGACCTGGCTTCTAGAACCTTCCCCAGTGGAGCCTAGGGGCCGGGCGGAGATGGAGCCCAACAGGCGAGGCTGGCCCAAGGTGCGGGTCCTATGAGGGGCTTGCTCTCCTAGGGCAGGGACTTCCCGGGGGTTCCGGCTCCAGTGGTGACCTTGGCCTTAGCTTATGTCTGTGACTCACATTGGGCCCTCCTGGAAGTGGCCTGGATGCAAGGTCGGCCCACCTGGTTCCTTCCTGCTCTGTGTGAGCAGCTCAGGCCCTCACTGAGAGTCTGTTTCCCCCTGTAACATGCGGGTTCCCGCCTTGCCCACCACCCAGGGTGCACTGGGGCAGGGAGGGTGGCACAGCTCTCCTGCTGGACCTGCAGCCCATCTTCCGGGTGTCTGACCTCACCTGCACTGGCGCCACCTCCTCCAGGTAGCCCTCCACTCCCACCACACCCGGGCCCTGTCTGAGCTGCTCCAACCCTGTCCCTGTAGGAGGCATTGTGGCCCGTGGTGGGCAAACATGGGGCTTGTGGCTCAGAGCGAGTCCCACAAATGTTGGCTGGGTCATTGAAGTGGACGGCCGAAAAGCTCTTTCAGTTCCCAGAGAGCTGGGCCGCGGCTGGTGTGTGGTGCTGAGGCAGCAGCCTGAGGCTGGCAGAGGGGATGGTGTGTCCTATGTGCACCAGTGTGGACCCACAGTGGCTTCAGGGTGCAGGGTGTCCGGGGAGCCCTGGCTGGTGCCAGCGATGCGGGGCCCCTGGTTATAAGGATGAGCAGATGGAAGCTCACAGGGGCCCCAGGTACCTGGCCCAGGCTAGCCCGGGCAGGCCCCTCTGCCCTGTGCCCCGTGGAGCTGCAGCCCTGTGCGTCTTCCCGCCTGGAAGGCTTCACCAGACACAAGGGCCCAGCCCCAGCTGTGTGTGTGCTGGGCCCAGCCCCGAGGGCCCCCTTCCTCCCCTGCTGCCCTTCCCAGGCTTTCGGGCAGAGCCCTCTTGTTCACCGCCTCCAGGAGGGCGGGGCGTCCTAGTGGGCCCAGCCTCATCTCTGCCCTCGCGCTCCAGGCCTGCTTTCCTCCTGCTGGGTGGGGATTGTGCCCTGGCCCATGTGGGTTGGGAATGGTGGCCCCAGGGAGGGCTCCTGGCACCCGGGGGCTGTGTCCGGGGCAGGTTTCCCTGCCTGGCAGCTGAGCCCTGTCGTGTCTTTGACCCAGACTCGGAGCCGTGGGTCCCGACTGAACATCATCATCATCGCTGAGGGTGCCATTGACCGCAACGGGAAGCCCATCTCGTCCAGCTACGTGAAGGACACCAAGGAAGTGCAGAAAGCCATGGATGACAAGAGGTTTGACGAGGCCACCCAGCTCCGTGGTGGGTAAGCCCCCTCAGCAGACCCCTGCACTCTTACATGGCTGGGTCCCGGTGCCAGGCAGCATGTGCTGCAGTGGCGCTATGCACGCCTGGCCTGGGTCATCCTTCTAGGCACCGCGTCTGAAGATCGAGGGAGGAAGGGGCCTGCGGGTGGTACAGGAGGCGGGCTGGGAGGTGTGGTACCACAGGAGACCCTGGGCGGTGGCACGGGCAGGGCCCAGTGCACAGGGATCTGGGCATGGCGAGGGGATGAGAAGCTGTGGATACAAGCCCAGGACATGGGGTGGCCCCGCGGGGGCTGGGAAGGCTGGCAGATGTTGGGTGTGGGTACCACCCCCCTGCAGGCGTCCTGGCGGCCGGGTCAGGCTGGATTGGACGTCTGGGTTCCCATGCGTGCCTCCACCCGCTACCAAGGTGGCCAACCCTCCCTTGAGCTGGATGCCGGCCACGTGCTTTGCTGCACGGGCTGGCGTGGCCTCGTGTTGTGTTGGGGGTCTCGCACCTTCTGTGGAAGGTGCCCTGCCTGGCATGCGCGGTGTCTGCTGCCTCATGGCTGAGCTTCCATCGGGCCGTGTGCCTGTGACCAGCCTCCTGGGCTCTGTCACGGCTGCGCTGTGGCTGTACGCCGTGGCGCTGCAGGGCTGTGCATGGTGTGACCCGAATCCCTTCCAGGAGCTTCGAGAACAACTGGAACATTTACAAGCTCCTCGCCCACCAGAAGCCCCCCAAGGAGAAGGGGCAGCCGACTGCCGGCCTCGGGAGGCAGCTTCTGGCCTGGACTTGGAGCTGGAGAGAGCAGGCAGGGTCCTCGATCGGGAACAGACGGGAACGGTGCACGGGTTGGAAGGAATGGGTGTTCACAAGCTGCCTGGGAGGCTCCCCGTGGGGATCCTGTCTGCACTGGCGTTGGCCTTGGCCCAGGCAGCCCAGGGGAGTCCAGGGAACCGGGCCTCACCTGTTTCCAGGGTGGCGCTCCAACCCCCTTTGACCGGAACTATGGGACCAAGCTGGGGGTGAAGGCCATGCTGTGGTTGTCGGAGAAGCTGCGCGAGGTTTACCGCAAGGATGGCCGCGGTGGACCTGGAGAAGCTGCGGGCGTCGGGCGCGGGCAAGGCCATCGGCGTCCTGACCAGCGGCGGCGACGCGCAAGGTCCCCTGACAAGCCCACCAGGCCCCCTGCTGAGATGGCTGTGAGATGGTGGCAGATACTCTGGCTGCTACGTGAGAACAGTGTGCCGATCCCTGGGGTTTCTCAAGGCGTGGCACCTCACCTCACACCTGCTCCCTGCTGCTGAGCCCCACGCCAAGCTGGAGAGCGGATGAGAAGCATGTGTAACCAGGGTAGAGGTCGAGAGTCCTCTCGTGGGGGTCTCCATGTTCAAGGGAGCTGCCGAGGCTTGAGCAGGAGCCCCCAGCAGGTACCTGGCGCTGGTATCTGCACTGGCCTCAGGGGCCGACTGAGGCATTGTGGCCCGTGGTGGGCAAACATGGGGCTTGTGGCTCAGAGCGAGTCCCACAAATGTTGGCTGGGTCATTGAAGTGGACGGCCGAAAAGCTCTTTCAGTTCCCAGAGAGCTGGGCCGCGGCTGGTGTGTGGTGCTGAGGCAGCAGCCTGAGGCTGGCAGAGGGGATGGTGTGTCCTATGTGCACCAGTGTGGACCCACAGTGGCTTCAGGGTGCAGGGTGTCCGGGGAGCCCTGGCTGGTGCCAGCGATGCGGGGCCCCTGGTTATAAGGATGAGCAGATGGAAGCTCACAGGGGCCCCAGGTACCTGGCCCAGGCTAGCCCGGGCAGGCCCCTCTGCCCTGTGCCCCGTGGAGCTGCAGCCCTGTGCGTCTTCCCGCCTGGAAGGCTTCACCAGACACAAGGGCCCAGCCCCAGCTGTGTGTGTGCTGGGCCCAGCCCCGAGGGCCCCCTTCCTCCCCTGCTGCCCTTCCCAGGCTTTCGGGCAGAGCCCTCTTGTTCACCGCCTCCAGGAGGGCGGGGCGTCCTAGTGGGCCCAGCCTCATCTCTGCCCTCGCGCTCCAGGCCTGCTTTCCTCCTGCTGGGTGGGGATTGTGCCCTGGCCCATGTGGGTTGGGAATGGTGGCCCCAGGGAGGGCTCCTGGCACCCGGGGGCTGTGTCCGGGGCAGGTTTCCCTGCCTGGCAGCTGAGCCCTGTCGTGTCTTTGACCCAGACTCGGAGCCGTGGGTCCCGACTGAACATCATCATCATCGCTGAGGGTGCCATTGACCGCAACGGGAAGCCCATCTCGTCCAGCTACGTGAAGGACACCAAGGAAGTGCAGAAAGCCATGGATGACAAGAGGTTTGACGAGGCCACCCAGCTCCGTGGTGGGTAAGCCCCCTCAGCAGACCCCTGCACTCTTACATGGCTGGGTCCCGGTGCCAGGCAGCATGTGCTGCAGTGGCGCTATGCACGCCTGGCCTGGGTCATCCTTCTAGGCACCGCGTCTGAAGATCGAGGGAGGAAGGGGCCTGCGGGTGGTACAGGAGGCGGGCTGGGAGGTGTGGTACCACAGGAGACCCTGGGCGGTGGCACGGGCAGGGCCCAGTGCACAGGGATCTGGGCATGGCGAGGGGATGAGAAGCTGTGGATACAAGCCCAGGACATGGGGTGGCCCCGCGGGGGCTGGGAAGGCTGGCAGATGTTGGGTGTGGGTACCACCCCCCTGCAGGCGTCCTGGCGGCCGGGTCAGGCTGGATTGGACGTCTGGGTTCCCATGCGTGCCTCCACCCGCTACCAAGGTGGCCAACCCTCCCTTGAGCTGGATGCCGGCCACGTGCTTTGCTGCACGGGCTGGCGTGGCCTCGTGTTGTGTTGGGGGTCTCGCACCTTCTGTGGAAGGTGCCCTGCCTGGCATGCGCGGTGTCTGCTGCCTCATGGCTGAGCTTCCATCGGGCCGTGTGCCTGTGACCAGCCTCCTGGGCTCTGTCACGGCTGCGCTGTGGCTGTACGCCGTGGCGCTGCAGGGCTGTGCATGGTGTGACCCGAATCCCTTCCAGGAGCTTCGAGAACAACTGGAACATTTACAAGCTCCTCGCCCACCAGAAGCCCCCCAAGGAGAAGGTGAGGCAGGGAGCGGCGCCCACAGAGGGAGGAACGGGCTCAGTTATTCTGCAGCCTCTTCACGCTGGCCCCGTGGCTGGGCCTGCCTGCCCCCACCTTCCCTCCTGCTGGGGTCCGAGCTGTGAGCTGGGAGGGTGGGCCTGACCTCTGCCTGGGCTCAGGCACCACTGTGGCTGGCAGGTCCCGGGTGCTGGGACCCTGGCTGCAGGGCTGGCTGTTGCTTCTCAGTGGTGGATGGAAATGAAGTCAGGCCACAGGCTTAACTCAGGAGAGGAGAAGCCATTGTGTAGAAAATGTCCCCCGGGGCCAGGCTCACACCTGTAATCCCAGCACTTTGGAAGGCTGAGGTGGCCAGTTCACCTGAGGTCAGGAGTTCGAGACCAGCCTGGCCAACATGGTGAAACTCCGTCTCTACTAAAAATACAAAAATTAGCTGGGCGTGGTGGTGGCACATGCCTGTAATCACAGCTACTCAGGAGGCTGAGGCAGGAGAATAGCTTGAACTTGGGAGGTGGAGGGTGCAGTGAGCCGAGATCGTGCCATTGCACTCCAGCCCGGGCGGCAAGAGTGAAACTCTGAAAATAAAATGTTCCCAAACAGCTGAAAACCTCAGGAAATGGGATCTCTCCAAAATAAGGATGAAATGGCTTGTTTCTAAAGTCCTGGGGGACGAGGGTCCTGTAGAGAGAGTCACGGCCAGTGAGGTCCTGGCTCCCAAGCCCCTTGAGCCACAGCCGGAGCTGCAGGCCGGGGCAGACAGCGTGGCCCAGCCTGAGTCTGGTCCTCCCTTCCATGGACATCTTTGGGTGTCCCTGCTGCTCCAGCCTCCTGCTTATCCCCAGAGCTAGTCAGCGGGCTCTACCCTCCGTGGTGGGGCAACCTGGTCTCCACGAACCCAGAACCTGGCAGGGGCGTGACTGGCTTTGTGGGCAGCAGGGCTGGCTCGTACCAGGACCCAGTGGGGCCATGTGGCTATGGAGCCCTTGGGTGTGGCTGCTGCCAAGTGGGATGTGCTGCACGTGACAGGTGCACGCCAGGTTCAGAGCCTCAGCACGGTGGGTGGAGGGGAGGTGGTGGCGGCCGTCACTGGATTCACATGGATGTGGTGGGGTTTTGGGTCCATCAGGTTAAATTAACTGTAGTCCTGATGGGACTGTCTCCATGTCTTTTCCCTTCCCTTAACGTGGCTACTAGAAAACAGGATAGCCAGGGCCCCTTCCTTACTCGTGGCTGTGCACCCCCCACCCTCCCGCCCGCTGCCAGCCCCTTGTGTGGGCACTGACCTGTGTTCCCGCCCGCAAGCCTGGCTTCACAACAGTGCTCGCCCCTTCTGCCTCCTCTGTTGCCTGCGTGCCAGGGGGCCAGGCTTGCACCGTGTCTCTTTTGGTCTTCACCAGAATCTTCTGGAATTAGAACAGATACCGTATTCCCAGGGCAGTTGGGCGGTGTGCTGGGCAGCGTCCAGGCTGCTGGCAGGGCCTGGCCCCTTTTTCCAGAACCTGCCGGCCTGCTGACCTCCTGTGCAGGTTGGGGGTCCCCTCCCCGGCTGTGCCTCACGCTCATCTCCCCTTCTCTCTGAAGTCTAACTTCTCCCTGGCCATCCTGAATGTGGGGGCCCCGGCGGCTGGCATGAATGCGGCCGTGCGCTCGGCGGTGCGGACCGGCATCTCCCATGGACACACAGTATACGTGGTGCACGATGGCTTCGAAGGCCTAGCCAAGGGTCAGGTCAACGTGGAGCACATGACGGAGAAGATGAAGACAGACATTCAGAGGGGCCTGGTGCTGCGGTGAGGCTGCCGTGGGTCCCTGGCCACAGCTGCGCGTCCAACTCTCGGGGCTGGGGTGGGGCTGCTGAGGAGCGGCTGGGCAGGAGAAGGCAGGAGGGGTCCTTGGAGAGGGTGGGCCAGGGCGGCTTTCCTGGGAGCTGCCACTCCCTCTCCCAGGCCTGGCCCAGCGGGGACTCAGGATCGGGGGGAGACCTGAACTCGTTCCCGCCGACTCAGGCCCTGCTGCCCCTCTCAGGAACGAGAAGTGCCATGACTACTACACCACGGAGTTCCTGTACAACCTGTACTCATCAGAGGGCAAGGGCGTCTTCGACTGCAGGACCAATGTCCTGGGCCACCTGCAGCAGGTGTGGGGCAGGGGTGAGGCTCTGAGAGGCCTGCCCCTCTTTCCTGCCACCATCTGTCCCCGGCCCCAGGGGTCCCAGCCCTCACGGGCACCCACGGGCACTCCCGGCAGGCCCTCGGGCACGTGTGCCCTTCCCCAGTGAGGGGACCGAGGCCTGTATCTAGGTGAGGTCTCATTTCAAGAAGGGGTGGGGCTGGGGCTGGAGCCGGGGCCCGAGCCAGGGCATTCACATGCTGAGCCGAGCTCCCCACCCCTGCCAGGCCTCCCGCGGCCACTTCCGCCGAACCCCTCACCTAGATCCCCGCATGCTCCCTGCCTTATGGTGGCCCTGCAGGAAGCCCGCGTCCTGGGGTTTTCTGAGCCAGGGAGGGGAGTCAGGGTGGCTGGGCATGGGGCCCGAGGTGATGGGGCCCGAGGTGGGGCCGCTGGCTGCCGATGCAGGGCCCAGGAGTCACTTGACTTGGCCAGGGGCAGCCGACTGCCGGCCTCGGGAGGCAGCTTCTGGCCTGGACTTGGAGCTGGAGAGAGCAGGCAGGGTCCTCGATCGGGAACAGACGGGAACGGTGCACGGGTTGGAAGGAATGGGTGTTCACAAGCTGCCTGGGAGGCTCCCCGTGGGGATCCTGTCTGCACTGGCGTTGGCCTTGGCCCAGGCAGCCCAGGGGAGTCCAGGGAACCGGGCCTCACCTGTTTCCAGGGTGGCGCTCCAACCCCCTTTGACCGGAACTATGGGACCAAGCTGGGGGTGAAGGCCATGCTGTGGTTGTCGGAGAAGCTGCGCGAGGTTTACCGCAAGGCAGGGCCCAGTGCACAGGGATCTGGGCATGGCGAGGGGATGAGAAGCTGTGGATACAAGCCCAGGACATGGGGTGGCCCCGCGGGGGCTGGGAAGGCTGGCAGATGTTGGGTGTGGGTACCACCCCCCTGCAGGCGTCCTGGCGGCCGGGTCAGGCTGGATTGGACGTCTGGGTTCCCATGCGTGCCTCCACCCGCTACCAAGGTGGCCAACCCTCCCTTGAGCTGGATGCCGGCCACGTGCTTTGCTGCACGGGCTGGCGTGGCCTCGTGTTGTGTTGGGGGTCTCGCACCTTCTGTGGAAGGTGCCCTGCCTGGCATGCGCGGTGTCTGCTGCCTCATGGCTGAGCTTCCATCGGGCCGTGTGCCTGTGACCAGCCTCCTGGGCTCTGTCACGGCTGCGCTGTGGCTGTACGCCGTGGCGCTGCAGGGCTGTGCATGGTGTGACCCGAATCCCTTCCAGGAGCTTCGAGAACAACTGGAACATTTACAAGCTCCTCGCCCACCAGAAGCCCCCCAAGGAGAAGTTGAGCTGGATGCCGGCCACGTGCTTTGCTGCACGGGCTGGCGTGGCCTCGTGTTGTGTTGGGGGTCTCGCACCTTCTGTGGAAGGTGCCCTGCCTGGCATGCGCGGTGTCTGCTGCCTCATGGCTGAGCTTCCATCGGGCCGTGTGCCTGTGACCAGCCTCCTGGGCTCTGTCACGGCTGCGCTGTGGCTGTACGCCGTGGCGCTGCAGGGCTGTGCATGGTGTGACCCGAATCCCTTCCAGGAGCTTCGAGAACAACTGGAACATTTACAAGCTCCTCGCCCACCAGAAGCCCCCCAAGGAGAAGGGTAGCCATGCCGACGGCCTACAGGGAAGGGTGGGCACGTGGAGGACCCCCGACCCCCCCTTGTCCCCCAGAGCTGTGACCGCATCAAACAGTCTGCCTCGGGGACCAAGCGCCGTGTGTTCATTGCTGCACGGGCTGGCGTGGCCTCGTGTTGTGTTGGGGGTCTCGCACCTTCTGTGGAAGGTGCCCTGCCTGGCATGCGCGGTGTCTGCTGCCTCATGGCTGAGCTTCCATCGGGCCGTGTGCCTGTGACCAGCCTCCTGGGCTCTGTCACGGCTGCGCTGTGGCTGTACGCCGTGGCGCTGCAGGGCTGTGCATGGTGTGACCCGAATCCCTTCCAGGAGCTTCGAGAACAACTGGAACATTTACAAGCTCCTCGCCCACCAGAAGCCCCCCAAGGAGAAGTTAGCTGGGCGTGGTGGTGGCACATGCCTGTAATCACAGCTACTCAGGAGGCTGAGGCAGGAGAATAGCTTGAACTTGGGAGGTGGAGGGTGCAGTGAGCCGAGATCGTGCCATTGCACTCCAGCCCGGGCGGCAAGAGTGAAACTCTGAAAATAAAATGTTCCCAAACAGCTGAAAACCTCAGGAAATGGGATCTCTCCAAAATAAGGATGAAATGGCTTGTTTCTAAAGTCCTGGGGGACGAGGGTCCTGTAGAGAGAGTCACGGCCAGTGAGGTCCTGGCTCCCAAGCCCCTTGAGCCACAGCCGGAGCTGCAGGCCGGGGCAGACAGCGTGGCCCAGCCTGAGTCTGGTCCTCCCTTCCATGGACATCTTTGGGTGTCCCTGCTGCTCCAGCCTCCTGCTTATCCCCAGAGCTAGTCAGCGGGCTCTACCCTCCGTGGTGGGGCAACCTGGTCTCCACGAACCCAGAACCTGGCAGGGGCGTGACTGGCTTTGTGGGCAGCAGGGCTGGCTCGTACCAGGACCCAGTGGGGCCATGTGGCTATGGAGCCCTTGGGTGTGGCTGCTGCCAAGTGGGATGTGCTGCACGTGACAGGTGCACGCCAGGTTCAGAGCCTCAGCACGGTGGGTGGAGGGGAGGTGGTGGCGGCCGTCACTGGATTCACATGGATGTGGTGGGGTTTTGGGTCCATCAGGTTAAATTAACTGTAGTCCTGATGGGACTGTCTCCATGTCTTTTCCCTTCCCTTAACGTGGCTACTAGAAAACAGGATAGCCAGGGCCCCTTCCTTACTCGTGGCTGTGCACCCCCCACCCTCCCGCCCGCTGCCAGCCCCTTGTGTGGGCACTGACCTGTGTTCCCGCCCGCAAGCCTGGCTTCACAACAGTGCTCGCCCCTTCTGCCTCCTCTGTTGCCTGCGTGCCAGGGGGCCAGGCTTGCACCGTGTCTCTTTTGGTCTTCACCAGAATCTTCTGGAATTAGAACAGATACCGTATTCCCAGGGCAGTTGGGCGGTGTGCTGGGCAGCGTCCAGGCTGCTGGCAGGGCCTGGCCCCTTTTTCCAGAACCTGCCGGCCTGCTGACCTCCTGTGCAGGTTGGGGGTCCCCTCCCCGGCTGTGCCTCACGCTCATCTCCCCTTCTCTCTGAAGTCTAACTTCTCCCTGGCCATCCTGAATGTGGGGGCCCCGGCGGCTGGCATGAATGCGGCCGTGCGCTCGGCGGTGCGGACCGGCATCTCCCATGGACACACAGTATACGTGGTGCACGATGGCTTCGAAGGCCTAGCCAAGGGTCAGGAACGAGAAGTGCCATGACTACTACACCACGGAGTTCCTGTACAACCTGTACTCATCAGAGGGCAAGGGCGTCTTCGACTGCAGGACCAATGTCCTGGGCCACCTGCAGCAGGTGTGGGGCAGGGGTGAGGCTCTGAGAGGCCTGCCCCTCTTTCCTGCCACCATCTGTCCCCGGCCCCAGGGGTCCCAGCCCTCACGGGCACCCACGGGCACTCCCGGCAGGCCCTCGGGCACGTGTGCCCTTCCCCAGTGAGGGGACCGAGGCCTGTATCTAGGTGAGGTCTCATTTCAAGAAGGGGTGGGGCTGGGGCTGGAGCCGGGGCCCGAGCCAGGGCATTCACATGCTGAGCCGAGCTCCCCACCCCTGCCAGGCCTCCCGCGGCCACTTCCGCCGAACCCCTCACCTAGATCCCCGCATGCTCCCTGCCTTATGGTGGCCCTGCAGGAAGCCCGCGTCCTGGGGTTTTCTGAGCCAGGGAGGGG\n"
     ]
    }
   ],
   "source": [
    "# testing the function\n",
    "test = \"ENSG00000141959\"\n",
    "print (get_exon_sequences(test, exons_bed, genome))"
   ]
  },
  {
   "cell_type": "code",
   "execution_count": 4,
   "metadata": {},
   "outputs": [
    {
     "name": "stdout",
     "output_type": "stream",
     "text": [
      "64.60165870821814\n"
     ]
    }
   ],
   "source": [
    "# testing the function\n",
    "test = \"ENSG00000141959\"\n",
    "seq_test = get_exon_sequences(test, exons_bed, genome)\n",
    "print (calculate_gc_content(seq_test))"
   ]
  },
  {
   "cell_type": "code",
   "execution_count": null,
   "metadata": {},
   "outputs": [],
   "source": [
    "# The results were compared to the datasets using human BLAT search and Ensembl genome browser.\n",
    "# The function proved to be working perfectly and giving the correct results."
   ]
  },
  {
   "cell_type": "code",
   "execution_count": 3,
   "metadata": {},
   "outputs": [
    {
     "name": "stdout",
     "output_type": "stream",
     "text": [
      "               gene_id  gc_content\n",
      "0      ENSG00000284662   45.728643\n",
      "1      ENSG00000186827   69.876003\n",
      "2      ENSG00000260179   55.712452\n",
      "3      ENSG00000234396   60.122699\n",
      "4      ENSG00000225972   44.354839\n",
      "...                ...         ...\n",
      "53252  ENSG00000276289   51.491003\n",
      "53253  ENSG00000288711   53.292683\n",
      "53254  ENSG00000159200   48.058838\n",
      "53255  ENSG00000142197   51.295283\n",
      "53256  ENSG00000276076   62.980992\n",
      "\n",
      "[53257 rows x 2 columns]\n",
      "count    53230.000000\n",
      "mean        47.706387\n",
      "std          8.244582\n",
      "min         16.326531\n",
      "25%         41.584158\n",
      "50%         46.623182\n",
      "75%         53.216491\n",
      "max         92.857143\n",
      "Name: gc_content, dtype: float64\n"
     ]
    }
   ],
   "source": [
    "# Calculate GC content for exons of the unaffected genes\n",
    "gc_content = {}\n",
    "for gene_id in unique_genes['GeneID']:\n",
    "    try:\n",
    "        seq = get_exon_sequences(gene_id, exons_bed, genome)\n",
    "        if seq:\n",
    "            gc_content[gene_id] = calculate_gc_content(seq)\n",
    "        else:\n",
    "            gc_content[gene_id] = None\n",
    "    except Exception as e:\n",
    "        print(f\"Error processing {gene_id}: {e}\")\n",
    "        gc_content[gene_id] = None\n",
    "\n",
    "# Convert GC content dictionary to DataFrame\n",
    "gc_content_df = pd.DataFrame(gc_content.items(), columns=['gene_id', 'gc_content'])\n",
    "print(gc_content_df)\n",
    "\n",
    "# Save the DataFrame to a CSV file\n",
    "gc_content_df.to_csv('GC_ExonsUnaffected.csv', index=False)\n",
    "\n",
    "# Print summary statistics for GC content\n",
    "summary_GC_content = gc_content_df[\"gc_content\"].describe()\n",
    "print(summary_GC_content)"
   ]
  },
  {
   "cell_type": "code",
   "execution_count": null,
   "metadata": {},
   "outputs": [],
   "source": [
    "\n",
    "\n",
    "# Load the significant genes list\n",
    "unique_genes = pd.read_csv('unique_gene_ids.csv')\n",
    "\n",
    "# Load genome file\n",
    "genome_file = 'Homo_sapiens.GRCh38.dna.primary_assembly.fa'\n",
    "genome = SeqIO.to_dict(SeqIO.parse(genome_file, 'fasta'))\n",
    "\n",
    "\n",
    "\n",
    "# Load Exon BED file\n",
    "exon_bed_file = 'exons.bed'\n",
    "exons_bed = pd.read_csv(exon_bed_file, sep='\\t', header=None, \n",
    "                        names=['seqname', 'start', 'end', 'strand', 'transcript', \"gene_id\", \"length\"])\n",
    "exons_bed['seqname'] = exons_bed['seqname'].astype(str)\n",
    "\n",
    "#Remove duplicate exons\n",
    "exons_bed = exons_bed.drop_duplicates(subset=['seqname', 'start', 'end'])\n"
   ]
  },
  {
   "cell_type": "code",
   "execution_count": 40,
   "metadata": {},
   "outputs": [
    {
     "name": "stdout",
     "output_type": "stream",
     "text": [
      "              gene_id  gc_content\n",
      "0     ENSG00000141959   64.601659\n",
      "1     ENSG00000100211   51.824818\n",
      "2     ENSG00000133460   54.351412\n",
      "3     ENSG00000093009   51.514046\n",
      "4     ENSG00000183506   58.956462\n",
      "...               ...         ...\n",
      "7307  ENSG00000133110   35.049205\n",
      "7308  ENSG00000276087   42.917957\n",
      "7309  ENSG00000196312   48.431492\n",
      "7310  ENSG00000185989   55.593153\n",
      "7311  ENSG00000186184   45.790977\n",
      "\n",
      "[7312 rows x 2 columns]\n",
      "count    7311.000000\n",
      "mean       49.815231\n",
      "std         8.401445\n",
      "min        33.506045\n",
      "25%        42.650754\n",
      "50%        48.859613\n",
      "75%        56.835111\n",
      "max        73.391210\n",
      "Name: gc_content, dtype: float64\n"
     ]
    }
   ],
   "source": [
    "# Calculate GC content for exons of significant genes\n",
    "gc_content = {}\n",
    "for gene_id in unique_genes['GeneID']:\n",
    "    try:\n",
    "        seq = get_exon_sequences(gene_id, exons_bed, genome)\n",
    "        if seq:\n",
    "            gc_content[gene_id] = calculate_gc_content(seq)\n",
    "        else:\n",
    "            gc_content[gene_id] = None\n",
    "    except Exception as e:\n",
    "        print(f\"Error processing {gene_id}: {e}\")\n",
    "        gc_content[gene_id] = None\n",
    "\n",
    "# Convert GC content dictionary to DataFrame\n",
    "gc_content_df = pd.DataFrame(gc_content.items(), columns=['gene_id', 'gc_content'])\n",
    "print(gc_content_df)\n",
    "\n",
    "# Save the DataFrame to a CSV file\n",
    "gc_content_df.to_csv('GC_ExonsSignificant.csv', index=False)\n",
    "\n",
    "# Print summary statistics for GC content\n",
    "summary_GC_content = gc_content_df[\"gc_content\"].describe()\n",
    "print(summary_GC_content)"
   ]
  },
  {
   "cell_type": "code",
   "execution_count": 66,
   "metadata": {},
   "outputs": [
    {
     "name": "stdout",
     "output_type": "stream",
     "text": [
      "Levene's test - Statistic: 87.9708622800676, P-value: 6.863036871780596e-21\n",
      "Unequal variances - T-statistic: -20.16993992566417, P-value: 1.355937427978016e-88\n"
     ]
    }
   ],
   "source": [
    "# T-test\n",
    "# Load the data\n",
    "unaffected_data = pd.read_csv('GC_ExonsUnaffected.csv')\n",
    "significant_data = pd.read_csv('GC_ExonsSignificant.csv')\n",
    "\n",
    "# Extract the GC content values\n",
    "gc_unaffected = unaffected_data['gc_content']\n",
    "gc_significant = significant_data['gc_content']\n",
    "\n",
    "# Remove the rows that have no values \n",
    "gc_unaffected = unaffected_data['gc_content'].dropna()\n",
    "gc_significant = significant_data['gc_content'].dropna()\n",
    "\n",
    "# Perform Levene's test for equal variances\n",
    "levene_stat, levene_p = stats.levene(gc_unaffected, gc_significant)\n",
    "print(f\"Levene's test - Statistic: {levene_stat}, P-value: {levene_p}\")\n",
    "\n",
    "\n",
    "# Based on Levene's test result, perform the appropriate t-test\n",
    "if levene_p > 0.05:\n",
    "    # Equal variances\n",
    "    t_statistic_equal, p_value_equal = stats.ttest_ind(gc_unaffected, gc_significant, equal_var=True)\n",
    "    print(f\"Equal variances - T-statistic: {t_statistic_equal}, P-value: {p_value_equal}\")\n",
    "else:\n",
    "    # Unequal variances\n",
    "    t_statistic_unequal, p_value_unequal = stats.ttest_ind(gc_unaffected, gc_significant, equal_var=False)\n",
    "    print(f\"Unequal variances - T-statistic: {t_statistic_unequal}, P-value: {p_value_unequal}\")"
   ]
  },
  {
   "cell_type": "code",
   "execution_count": 63,
   "metadata": {},
   "outputs": [
    {
     "name": "stdout",
     "output_type": "stream",
     "text": [
      "2758     ENSG00000263390\n",
      "7012     ENSG00000283637\n",
      "7044     ENSG00000263468\n",
      "7969     ENSG00000264684\n",
      "8195     ENSG00000211596\n",
      "10771    ENSG00000250939\n",
      "13256    ENSG00000255072\n",
      "18602    ENSG00000278104\n",
      "18603    ENSG00000275856\n",
      "20366    ENSG00000283237\n",
      "20375    ENSG00000283461\n",
      "22767    ENSG00000283334\n",
      "25511    ENSG00000207704\n",
      "25646    ENSG00000254690\n",
      "31385    ENSG00000279239\n",
      "32385    ENSG00000283558\n",
      "32725    ENSG00000273767\n",
      "35359    ENSG00000207546\n",
      "43549    ENSG00000286030\n",
      "43960    ENSG00000285057\n",
      "44359    ENSG00000273948\n",
      "44431    ENSG00000283935\n",
      "44530    ENSG00000207688\n",
      "45106    ENSG00000272920\n",
      "50379    ENSG00000288671\n",
      "51891    ENSG00000274170\n",
      "51983    ENSG00000283366\n",
      "Name: gene_id, dtype: object\n"
     ]
    }
   ],
   "source": [
    "# Identify rows with missing gc_content in unaffected data \n",
    "missing_gc_unaffected = unaffected_data[unaffected_data['gc_content'].isnull()]\n",
    "print(missing_gc_unaffected['gene_id'])\n",
    "\n"
   ]
  },
  {
   "cell_type": "code",
   "execution_count": 64,
   "metadata": {},
   "outputs": [
    {
     "name": "stdout",
     "output_type": "stream",
     "text": [
      "3771    ENSG00000271254\n",
      "Name: gene_id, dtype: object\n"
     ]
    }
   ],
   "source": [
    "# Identify rows with missing gc_content in significant data \n",
    "missing_gc_unaffected = significant_data[significant_data['gc_content'].isnull()]\n",
    "print(missing_gc_unaffected['gene_id'])"
   ]
  },
  {
   "cell_type": "code",
   "execution_count": null,
   "metadata": {},
   "outputs": [],
   "source": [
    "# Now we calculate the GC content based on the different alternative splicing events. "
   ]
  },
  {
   "cell_type": "code",
   "execution_count": 7,
   "metadata": {},
   "outputs": [
    {
     "name": "stdout",
     "output_type": "stream",
     "text": [
      "              gene_id  gc_content\n",
      "0     ENSG00000271254         NaN\n",
      "1     ENSG00000186866   58.602910\n",
      "2     ENSG00000185917   48.528302\n",
      "3     ENSG00000160216   55.485285\n",
      "4     ENSG00000182670   41.354420\n",
      "...               ...         ...\n",
      "5926  ENSG00000276087   42.917957\n",
      "5927  ENSG00000196312   48.431492\n",
      "5928  ENSG00000185989   55.593153\n",
      "5929  ENSG00000186184   45.790977\n",
      "5930  ENSG00000134900   39.569601\n",
      "\n",
      "[5931 rows x 2 columns]\n",
      "count    5930.000000\n",
      "mean       49.364622\n",
      "std         8.316400\n",
      "min        33.701188\n",
      "25%        42.393955\n",
      "50%        48.123423\n",
      "75%        56.135080\n",
      "max        73.391210\n",
      "Name: gc_content, dtype: float64\n"
     ]
    }
   ],
   "source": [
    "# Calculate GC content for exons of the significant genes with skipped exons alternative splicing\n",
    "\n",
    "unique_genes = pd.read_csv('SkippedExon_Genes.txt', header=None, names=['GeneID'])\n",
    "\n",
    "gc_content = {}\n",
    "for gene_id in unique_genes['GeneID']:\n",
    "    try:\n",
    "        seq = get_exon_sequences(gene_id, exons_bed, genome)\n",
    "        if seq:\n",
    "            gc_content[gene_id] = calculate_gc_content(seq)\n",
    "        else:\n",
    "            gc_content[gene_id] = None\n",
    "    except Exception as e:\n",
    "        print(f\"Error processing {gene_id}: {e}\")\n",
    "        gc_content[gene_id] = None\n",
    "\n",
    "# Convert GC content dictionary to DataFrame\n",
    "gc_content_df = pd.DataFrame(gc_content.items(), columns=['gene_id', 'gc_content'])\n",
    "print(gc_content_df)\n",
    "\n",
    "# Save the DataFrame to a CSV file\n",
    "gc_content_df.to_csv('GC_SkippedExons.csv', index=False)\n",
    "\n",
    "# Print summary statistics for GC content\n",
    "summary_GC_content = gc_content_df[\"gc_content\"].describe()\n",
    "print(summary_GC_content)"
   ]
  },
  {
   "cell_type": "code",
   "execution_count": 8,
   "metadata": {},
   "outputs": [
    {
     "name": "stdout",
     "output_type": "stream",
     "text": [
      "              gene_id  gc_content\n",
      "0     ENSG00000185437   49.154135\n",
      "1     ENSG00000100209   52.623688\n",
      "2     ENSG00000243156   55.185351\n",
      "3     ENSG00000100031   62.178970\n",
      "4     ENSG00000239382   59.704861\n",
      "...               ...         ...\n",
      "1356  ENSG00000145781   39.507990\n",
      "1357  ENSG00000002016   49.255114\n",
      "1358  ENSG00000186815   58.011842\n",
      "1359  ENSG00000123415   54.229623\n",
      "1360  ENSG00000136146   39.245728\n",
      "\n",
      "[1361 rows x 2 columns]\n",
      "count    1361.000000\n",
      "mean       48.811028\n",
      "std         8.320953\n",
      "min        33.506045\n",
      "25%        41.906460\n",
      "50%        47.408120\n",
      "75%        55.345251\n",
      "max        72.020569\n",
      "Name: gc_content, dtype: float64\n"
     ]
    }
   ],
   "source": [
    "# Calculate GC content for exons of the significant genes with mutually exclsive alternative splicing\n",
    "\n",
    "\n",
    "unique_genes = pd.read_csv('MutuallyExclusive_Genes.txt', header=None, names=['GeneID'])\n",
    "\n",
    "gc_content = {}\n",
    "for gene_id in unique_genes['GeneID']:\n",
    "    try:\n",
    "        seq = get_exon_sequences(gene_id, exons_bed, genome)\n",
    "        if seq:\n",
    "            gc_content[gene_id] = calculate_gc_content(seq)\n",
    "        else:\n",
    "            gc_content[gene_id] = None\n",
    "    except Exception as e:\n",
    "        print(f\"Error processing {gene_id}: {e}\")\n",
    "        gc_content[gene_id] = None\n",
    "\n",
    "# Convert GC content dictionary to DataFrame\n",
    "gc_content_df = pd.DataFrame(gc_content.items(), columns=['gene_id', 'gc_content'])\n",
    "print(gc_content_df)\n",
    "\n",
    "# Save the DataFrame to a CSV file\n",
    "gc_content_df.to_csv('GC_MutuallyExclusive.csv', index=False)\n",
    "\n",
    "# Print summary statistics for GC content\n",
    "summary_GC_content = gc_content_df[\"gc_content\"].describe()\n",
    "print(summary_GC_content)"
   ]
  },
  {
   "cell_type": "code",
   "execution_count": 9,
   "metadata": {},
   "outputs": [
    {
     "name": "stdout",
     "output_type": "stream",
     "text": [
      "              gene_id  gc_content\n",
      "0     ENSG00000235123   43.698469\n",
      "1     ENSG00000160294   52.441340\n",
      "2     ENSG00000206140   62.682464\n",
      "3     ENSG00000025770   62.269562\n",
      "4     ENSG00000100276   67.401842\n",
      "...               ...         ...\n",
      "1323  ENSG00000139044   59.332850\n",
      "1324  ENSG00000135407   47.710633\n",
      "1325  ENSG00000211451   52.362056\n",
      "1326  ENSG00000123384   59.026798\n",
      "1327  ENSG00000111077   62.090644\n",
      "\n",
      "[1328 rows x 2 columns]\n",
      "count    1328.000000\n",
      "mean       53.912634\n",
      "std         8.416187\n",
      "min        34.428050\n",
      "25%        47.606459\n",
      "50%        55.423161\n",
      "75%        60.754296\n",
      "max        71.039326\n",
      "Name: gc_content, dtype: float64\n"
     ]
    }
   ],
   "source": [
    "# Calculate GC content for exons of the significant genes with intron retention alternative splicing\n",
    "\n",
    "\n",
    "unique_genes = pd.read_csv('IntronRetention_Genes.txt', header=None, names=['GeneID'])\n",
    "\n",
    "gc_content = {}\n",
    "for gene_id in unique_genes['GeneID']:\n",
    "    try:\n",
    "        seq = get_exon_sequences(gene_id, exons_bed, genome)\n",
    "        if seq:\n",
    "            gc_content[gene_id] = calculate_gc_content(seq)\n",
    "        else:\n",
    "            gc_content[gene_id] = None\n",
    "    except Exception as e:\n",
    "        print(f\"Error processing {gene_id}: {e}\")\n",
    "        gc_content[gene_id] = None\n",
    "\n",
    "# Convert GC content dictionary to DataFrame\n",
    "gc_content_df = pd.DataFrame(gc_content.items(), columns=['gene_id', 'gc_content'])\n",
    "print(gc_content_df)\n",
    "\n",
    "# Save the DataFrame to a CSV file\n",
    "gc_content_df.to_csv('GC_IntronRetention.csv', index=False)\n",
    "\n",
    "# Print summary statistics for GC content\n",
    "summary_GC_content = gc_content_df[\"gc_content\"].describe()\n",
    "print(summary_GC_content)"
   ]
  },
  {
   "cell_type": "code",
   "execution_count": 10,
   "metadata": {},
   "outputs": [
    {
     "name": "stdout",
     "output_type": "stream",
     "text": [
      "              gene_id  gc_content\n",
      "0     ENSG00000141959   64.601659\n",
      "1     ENSG00000100211   51.824818\n",
      "2     ENSG00000133460   54.351412\n",
      "3     ENSG00000093009   51.514046\n",
      "4     ENSG00000183506   58.956462\n",
      "...               ...         ...\n",
      "2214  ENSG00000120662   39.449686\n",
      "2215  ENSG00000198715   54.986577\n",
      "2216  ENSG00000139116   38.635905\n",
      "2217  ENSG00000185046   45.067117\n",
      "2218  ENSG00000060656   61.751349\n",
      "\n",
      "[2219 rows x 2 columns]\n",
      "count    2219.000000\n",
      "mean       50.999993\n",
      "std         8.451088\n",
      "min        34.136334\n",
      "25%        43.563681\n",
      "50%        50.790590\n",
      "75%        58.388437\n",
      "max        70.720346\n",
      "Name: gc_content, dtype: float64\n"
     ]
    }
   ],
   "source": [
    "# Calculate GC content for exons of the significant genes with 3 and 5 prime alternative splicing\n",
    "\n",
    "\n",
    "unique_genes = pd.read_csv('3_5_PrimeGenes.txt', header=None, names=['GeneID'])\n",
    "\n",
    "gc_content = {}\n",
    "for gene_id in unique_genes['GeneID']:\n",
    "    try:\n",
    "        seq = get_exon_sequences(gene_id, exons_bed, genome)\n",
    "        if seq:\n",
    "            gc_content[gene_id] = calculate_gc_content(seq)\n",
    "        else:\n",
    "            gc_content[gene_id] = None\n",
    "    except Exception as e:\n",
    "        print(f\"Error processing {gene_id}: {e}\")\n",
    "        gc_content[gene_id] = None\n",
    "\n",
    "# Convert GC content dictionary to DataFrame\n",
    "gc_content_df = pd.DataFrame(gc_content.items(), columns=['gene_id', 'gc_content'])\n",
    "print(gc_content_df)\n",
    "\n",
    "# Save the DataFrame to a CSV file\n",
    "gc_content_df.to_csv('GC_3_5_Prime.csv', index=False)\n",
    "\n",
    "# Print summary statistics for GC content\n",
    "summary_GC_content = gc_content_df[\"gc_content\"].describe()\n",
    "print(summary_GC_content)"
   ]
  },
  {
   "cell_type": "code",
   "execution_count": null,
   "metadata": {},
   "outputs": [],
   "source": [
    "# Now we calculate the GC content based on the datasets of cancer cell lines. "
   ]
  },
  {
   "cell_type": "code",
   "execution_count": 6,
   "metadata": {},
   "outputs": [
    {
     "name": "stdout",
     "output_type": "stream",
     "text": [
      "              gene_id  gc_content\n",
      "0     ENSG00000141959   64.601659\n",
      "1     ENSG00000100211   51.824818\n",
      "2     ENSG00000133460   54.351412\n",
      "3     ENSG00000093009   51.514046\n",
      "4     ENSG00000183506   58.956462\n",
      "...               ...         ...\n",
      "2859  ENSG00000137822   44.945589\n",
      "2860  ENSG00000139668   43.490054\n",
      "2861  ENSG00000166529   49.849962\n",
      "2862  ENSG00000133104   37.865443\n",
      "2863  ENSG00000005810   43.821066\n",
      "\n",
      "[2864 rows x 2 columns]\n",
      "count    2863.000000\n",
      "mean       50.647673\n",
      "std         8.533137\n",
      "min        33.701188\n",
      "25%        43.284007\n",
      "50%        49.990377\n",
      "75%        58.153797\n",
      "max        70.123967\n",
      "Name: gc_content, dtype: float64\n"
     ]
    }
   ],
   "source": [
    "# Calculate GC content for exons of the AU565 dataset\n",
    "\n",
    "\n",
    "unique_genes = pd.read_csv('AU565_Genes.csv')\n",
    "\n",
    "gc_content = {}\n",
    "for gene_id in unique_genes['GeneID']:\n",
    "    try:\n",
    "        seq = get_exon_sequences(gene_id, exons_bed, genome)\n",
    "        if seq:\n",
    "            gc_content[gene_id] = calculate_gc_content(seq)\n",
    "        else:\n",
    "            gc_content[gene_id] = None\n",
    "    except Exception as e:\n",
    "        print(f\"Error processing {gene_id}: {e}\")\n",
    "        gc_content[gene_id] = None\n",
    "\n",
    "# Convert GC content dictionary to DataFrame\n",
    "gc_content_df = pd.DataFrame(gc_content.items(), columns=['gene_id', 'gc_content'])\n",
    "print(gc_content_df)\n",
    "\n",
    "# Save the DataFrame to a CSV file\n",
    "gc_content_df.to_csv('GC_AU565.csv', index=False)\n",
    "\n",
    "# Print summary statistics for GC content\n",
    "summary_GC_content = gc_content_df[\"gc_content\"].describe()\n",
    "print(summary_GC_content)"
   ]
  },
  {
   "cell_type": "code",
   "execution_count": 7,
   "metadata": {},
   "outputs": [
    {
     "name": "stdout",
     "output_type": "stream",
     "text": [
      "              gene_id  gc_content\n",
      "0     ENSG00000141959   64.601659\n",
      "1     ENSG00000133460   54.351412\n",
      "2     ENSG00000248751   62.273684\n",
      "3     ENSG00000138867   58.025024\n",
      "4     ENSG00000100401   58.630453\n",
      "...               ...         ...\n",
      "3121  ENSG00000275066   45.204628\n",
      "3122  ENSG00000133104   37.865443\n",
      "3123  ENSG00000139793   35.691180\n",
      "3124  ENSG00000005810   43.821066\n",
      "3125  ENSG00000226453   43.078461\n",
      "\n",
      "[3126 rows x 2 columns]\n",
      "count    3125.000000\n",
      "mean       50.301064\n",
      "std         8.578404\n",
      "min        33.722839\n",
      "25%        42.861671\n",
      "50%        49.667534\n",
      "75%        57.706367\n",
      "max        73.391210\n",
      "Name: gc_content, dtype: float64\n"
     ]
    }
   ],
   "source": [
    "# Calculate GC content for exons of the BULK_MCF dataset.\n",
    "\n",
    "\n",
    "unique_genes = pd.read_csv('BULK_MCF_Genes.csv')\n",
    "\n",
    "gc_content = {}\n",
    "for gene_id in unique_genes['GeneID']:\n",
    "    try:\n",
    "        seq = get_exon_sequences(gene_id, exons_bed, genome)\n",
    "        if seq:\n",
    "            gc_content[gene_id] = calculate_gc_content(seq)\n",
    "        else:\n",
    "            gc_content[gene_id] = None\n",
    "    except Exception as e:\n",
    "        print(f\"Error processing {gene_id}: {e}\")\n",
    "        gc_content[gene_id] = None\n",
    "\n",
    "# Convert GC content dictionary to DataFrame\n",
    "gc_content_df = pd.DataFrame(gc_content.items(), columns=['gene_id', 'gc_content'])\n",
    "print(gc_content_df)\n",
    "\n",
    "# Save the DataFrame to a CSV file\n",
    "gc_content_df.to_csv('GC_BULK_MCF.csv', index=False)\n",
    "\n",
    "# Print summary statistics for GC content\n",
    "summary_GC_content = gc_content_df[\"gc_content\"].describe()\n",
    "print(summary_GC_content)"
   ]
  },
  {
   "cell_type": "code",
   "execution_count": 8,
   "metadata": {},
   "outputs": [
    {
     "name": "stdout",
     "output_type": "stream",
     "text": [
      "              gene_id  gc_content\n",
      "0     ENSG00000248751   62.273684\n",
      "1     ENSG00000100417   59.425837\n",
      "2     ENSG00000100401   58.630453\n",
      "3     ENSG00000198089   56.058673\n",
      "4     ENSG00000274602   58.078163\n",
      "...               ...         ...\n",
      "4405  ENSG00000133104   37.865443\n",
      "4406  ENSG00000139793   35.691180\n",
      "4407  ENSG00000127022   43.266146\n",
      "4408  ENSG00000005810   43.821066\n",
      "4409  ENSG00000136100   39.356815\n",
      "\n",
      "[4410 rows x 2 columns]\n",
      "count    4410.000000\n",
      "mean       49.444098\n",
      "std         8.419025\n",
      "min        33.506045\n",
      "25%        42.351537\n",
      "50%        48.055537\n",
      "75%        56.370814\n",
      "max        73.391210\n",
      "Name: gc_content, dtype: float64\n"
     ]
    }
   ],
   "source": [
    "# Calculate GC content for exons of the Ito dataset.\n",
    "\n",
    "\n",
    "unique_genes = pd.read_csv('Ito_Genes.csv')\n",
    "\n",
    "gc_content = {}\n",
    "for gene_id in unique_genes['GeneID']:\n",
    "    try:\n",
    "        seq = get_exon_sequences(gene_id, exons_bed, genome)\n",
    "        if seq:\n",
    "            gc_content[gene_id] = calculate_gc_content(seq)\n",
    "        else:\n",
    "            gc_content[gene_id] = None\n",
    "    except Exception as e:\n",
    "        print(f\"Error processing {gene_id}: {e}\")\n",
    "        gc_content[gene_id] = None\n",
    "\n",
    "# Convert GC content dictionary to DataFrame\n",
    "gc_content_df = pd.DataFrame(gc_content.items(), columns=['gene_id', 'gc_content'])\n",
    "print(gc_content_df)\n",
    "\n",
    "# Save the DataFrame to a CSV file\n",
    "gc_content_df.to_csv('GC_Ito.csv', index=False)\n",
    "\n",
    "# Print summary statistics for GC content\n",
    "summary_GC_content = gc_content_df[\"gc_content\"].describe()\n",
    "print(summary_GC_content)"
   ]
  },
  {
   "cell_type": "code",
   "execution_count": 9,
   "metadata": {},
   "outputs": [
    {
     "name": "stdout",
     "output_type": "stream",
     "text": [
      "              gene_id  gc_content\n",
      "0     ENSG00000183570   54.887093\n",
      "1     ENSG00000100401   58.630453\n",
      "2     ENSG00000127616   55.624801\n",
      "3     ENSG00000076928   61.627990\n",
      "4     ENSG00000198300   43.790728\n",
      "...               ...         ...\n",
      "2150  ENSG00000139793   35.691180\n",
      "2151  ENSG00000286724   46.164793\n",
      "2152  ENSG00000127022   43.266146\n",
      "2153  ENSG00000005810   43.821066\n",
      "2154  ENSG00000136114   53.567488\n",
      "\n",
      "[2155 rows x 2 columns]\n",
      "count    2155.000000\n",
      "mean       49.926808\n",
      "std         8.435269\n",
      "min        34.237605\n",
      "25%        42.600826\n",
      "50%        49.165012\n",
      "75%        57.065833\n",
      "max        72.020569\n",
      "Name: gc_content, dtype: float64\n"
     ]
    }
   ],
   "source": [
    "# Calculate GC content for exons of the MCF7 dataset.\n",
    "\n",
    "\n",
    "unique_genes = pd.read_csv('MCF7_Genes.csv')\n",
    "\n",
    "gc_content = {}\n",
    "for gene_id in unique_genes['GeneID']:\n",
    "    try:\n",
    "        seq = get_exon_sequences(gene_id, exons_bed, genome)\n",
    "        if seq:\n",
    "            gc_content[gene_id] = calculate_gc_content(seq)\n",
    "        else:\n",
    "            gc_content[gene_id] = None\n",
    "    except Exception as e:\n",
    "        print(f\"Error processing {gene_id}: {e}\")\n",
    "        gc_content[gene_id] = None\n",
    "\n",
    "# Convert GC content dictionary to DataFrame\n",
    "gc_content_df = pd.DataFrame(gc_content.items(), columns=['gene_id', 'gc_content'])\n",
    "print(gc_content_df)\n",
    "\n",
    "# Save the DataFrame to a CSV file\n",
    "gc_content_df.to_csv('GC_MCF7.csv', index=False)\n",
    "\n",
    "# Print summary statistics for GC content\n",
    "summary_GC_content = gc_content_df[\"gc_content\"].describe()\n",
    "print(summary_GC_content)"
   ]
  },
  {
   "cell_type": "code",
   "execution_count": 5,
   "metadata": {},
   "outputs": [
    {
     "name": "stdout",
     "output_type": "stream",
     "text": [
      "              gene_id  gc_content\n",
      "0     ENSG00000182871   65.897481\n",
      "1     ENSG00000142173   65.308919\n",
      "2     ENSG00000141959   64.601659\n",
      "3     ENSG00000100211   51.824818\n",
      "4     ENSG00000100417   59.425837\n",
      "...               ...         ...\n",
      "3290  ENSG00000133104   37.865443\n",
      "3291  ENSG00000139793   35.691180\n",
      "3292  ENSG00000151849   41.032258\n",
      "3293  ENSG00000005810   43.821066\n",
      "3294  ENSG00000071564   58.623489\n",
      "\n",
      "[3295 rows x 2 columns]\n",
      "count    3295.000000\n",
      "mean       50.335877\n",
      "std         8.498414\n",
      "min        33.853238\n",
      "25%        42.836642\n",
      "50%        49.831683\n",
      "75%        57.739295\n",
      "max        70.964029\n",
      "Name: gc_content, dtype: float64\n"
     ]
    }
   ],
   "source": [
    "# Calculate GC content for exons of the MCF10 dataset\n",
    "\n",
    "\n",
    "unique_genes = pd.read_csv('MCF10_Genes.csv')\n",
    "\n",
    "gc_content = {}\n",
    "for gene_id in unique_genes['GeneID']:\n",
    "    try:\n",
    "        seq = get_exon_sequences(gene_id, exons_bed, genome)\n",
    "        if seq:\n",
    "            gc_content[gene_id] = calculate_gc_content(seq)\n",
    "        else:\n",
    "            gc_content[gene_id] = None\n",
    "    except Exception as e:\n",
    "        print(f\"Error processing {gene_id}: {e}\")\n",
    "        gc_content[gene_id] = None\n",
    "\n",
    "# Convert GC content dictionary to DataFrame\n",
    "gc_content_df = pd.DataFrame(gc_content.items(), columns=['gene_id', 'gc_content'])\n",
    "print(gc_content_df)\n",
    "\n",
    "# Save the DataFrame to a CSV file\n",
    "gc_content_df.to_csv('GC_MCF10.csv', index=False)\n",
    "\n",
    "# Print summary statistics for GC content\n",
    "summary_GC_content = gc_content_df[\"gc_content\"].describe()\n",
    "print(summary_GC_content)"
   ]
  }
 ],
 "metadata": {
  "kernelspec": {
   "display_name": "Python 3",
   "language": "python",
   "name": "python3"
  },
  "language_info": {
   "codemirror_mode": {
    "name": "ipython",
    "version": 3
   },
   "file_extension": ".py",
   "mimetype": "text/x-python",
   "name": "python",
   "nbconvert_exporter": "python",
   "pygments_lexer": "ipython3",
   "version": "3.11.5"
  }
 },
 "nbformat": 4,
 "nbformat_minor": 2
}
